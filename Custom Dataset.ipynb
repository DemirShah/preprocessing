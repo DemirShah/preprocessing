{
 "cells": [
  {
   "cell_type": "code",
   "execution_count": null,
   "id": "ec2f6284",
   "metadata": {},
   "outputs": [],
   "source": [
    "import torch\n",
    "from torch.utils.data import Dataset\n",
    "from transformers import BertTokenizerFast"
   ]
  },
  {
   "cell_type": "code",
   "execution_count": null,
   "id": "5a035592",
   "metadata": {},
   "outputs": [],
   "source": [
    "class NERDataset(Dataset):\n",
    "    def __init__(self, texts, tags, tokenizer, tag2idx, max_len=512):\n",
    "        \"\"\"\n",
    "        Инициализация датасета для задачи NER.\n",
    "\n",
    "        :param texts: Список текстов (предложений).\n",
    "        :param tags: Список списков меток для каждого текста.\n",
    "        :param tokenizer: Быстрый токенизатор для преобразования текста в токены.\n",
    "        :param tag2idx: Словарь сопоставления меток с индексами.\n",
    "        :param max_len: Максимальная длина последовательности.\n",
    "        \"\"\"\n",
    "        self.texts = texts\n",
    "        self.tags = tags\n",
    "        self.tokenizer = tokenizer\n",
    "        self.tag2idx = tag2idx\n",
    "        self.max_len = max_len\n",
    "\n",
    "    def __len__(self):\n",
    "        return len(self.texts)\n",
    "\n",
    "    def __getitem__(self, idx):\n",
    "        text = str(self.texts[idx])\n",
    "        tags = self.tags[idx]\n",
    "\n",
    "        # Токенизация текста с возвратом информации о разбиении слов на под-токены\n",
    "        encoding = self.tokenizer.encode_plus(\n",
    "            text,\n",
    "            add_special_tokens=True,\n",
    "            max_length=self.max_len,\n",
    "            return_token_type_ids=False,\n",
    "            padding='max_length',\n",
    "            return_attention_mask=True,\n",
    "            return_offsets_mapping=True,  # Для выравнивания меток\n",
    "            truncation=True\n",
    "        )\n",
    "\n",
    "        # Инициализация меток\n",
    "        labels = []\n",
    "        word_ids = encoding.word_ids()  # Требуется быстрый токенизатор\n",
    "\n",
    "        previous_word_idx = None\n",
    "        for word_idx in word_ids:\n",
    "            if word_idx is None:\n",
    "                labels.append(-100)  # Специальный токен, который будет проигнорирован в потере\n",
    "            elif word_idx != previous_word_idx:\n",
    "                # Начало нового слова\n",
    "                labels.append(self.tag2idx.get(tags[word_idx], self.tag2idx[\"O\"]))\n",
    "            else:\n",
    "                # Под-токен слова\n",
    "                labels.append(-100)  # Игнорируем под-токены\n",
    "\n",
    "            previous_word_idx = word_idx\n",
    "\n",
    "        # Преобразование меток в тензор и обрезка до max_len\n",
    "        labels = labels[:self.max_len]\n",
    "        labels += [-100] * (self.max_len - len(labels))\n",
    "\n",
    "        return {\n",
    "            'text': text,\n",
    "            'input_ids': torch.tensor(encoding['input_ids'], dtype=torch.long),\n",
    "            'attention_mask': torch.tensor(encoding['attention_mask'], dtype=torch.long),\n",
    "            'labels': torch.tensor(labels, dtype=torch.long)\n",
    "        }"
   ]
  },
  {
   "cell_type": "code",
   "execution_count": 2,
   "id": "ee8e787c",
   "metadata": {},
   "outputs": [
    {
     "name": "stdout",
     "output_type": "stream",
     "text": [
      "Cloning into 'NER-Extension-'...\n",
      "warning: You appear to have cloned an empty repository.\n"
     ]
    }
   ],
   "source": [
    "! git clone https://github.com/DemirShah/NER-Extension-"
   ]
  },
  {
   "cell_type": "code",
   "execution_count": 3,
   "id": "81d65869",
   "metadata": {},
   "outputs": [
    {
     "name": "stdout",
     "output_type": "stream",
     "text": [
      "[Errno 2] No such file or directory: 'REPOSITORY'\n",
      "/Users/demir/NER Email\n"
     ]
    }
   ],
   "source": [
    "cd REPOSITORY"
   ]
  },
  {
   "cell_type": "code",
   "execution_count": 4,
   "id": "c176348a",
   "metadata": {},
   "outputs": [
    {
     "name": "stdout",
     "output_type": "stream",
     "text": [
      "fatal: not a git repository (or any of the parent directories): .git\r\n"
     ]
    }
   ],
   "source": []
  },
  {
   "cell_type": "code",
   "execution_count": 5,
   "id": "c87a7415",
   "metadata": {},
   "outputs": [
    {
     "name": "stdout",
     "output_type": "stream",
     "text": [
      "Initialized empty Git repository in /Users/demir/NER Email/.git/\r\n"
     ]
    }
   ],
   "source": [
    "! git init"
   ]
  },
  {
   "cell_type": "code",
   "execution_count": 7,
   "id": "ecd71e95",
   "metadata": {},
   "outputs": [],
   "source": [
    "! git add \"Custom Dataset.ipynb\""
   ]
  },
  {
   "cell_type": "code",
   "execution_count": 8,
   "id": "c094a91a",
   "metadata": {},
   "outputs": [
    {
     "name": "stdout",
     "output_type": "stream",
     "text": [
      "[main (root-commit) 6a337d6] Добавление Custom Dataset.ipynb\n",
      " Committer: Demir <demir@MacBook-Pro-Demir-2.local>\n",
      "Your name and email address were configured automatically based\n",
      "on your username and hostname. Please check that they are accurate.\n",
      "You can suppress this message by setting them explicitly. Run the\n",
      "following command and follow the instructions in your editor to edit\n",
      "your configuration file:\n",
      "\n",
      "    git config --global --edit\n",
      "\n",
      "After doing this, you may fix the identity used for this commit with:\n",
      "\n",
      "    git commit --amend --reset-author\n",
      "\n",
      " 1 file changed, 207 insertions(+)\n",
      " create mode 100644 Custom Dataset.ipynb\n",
      "fatal: 'origin' does not appear to be a git repository\n",
      "fatal: Could not read from remote repository.\n",
      "\n",
      "Please make sure you have the correct access rights\n",
      "and the repository exists.\n"
     ]
    }
   ],
   "source": [
    "! git commit -m \"Добавление Custom Dataset.ipynb\"\n",
    "! git push origin main  # или название вашей ветки\n",
    "   "
   ]
  },
  {
   "cell_type": "code",
   "execution_count": 9,
   "id": "cf2ddc04",
   "metadata": {},
   "outputs": [],
   "source": [
    "! git remote add origin https://github.com/DemirShah/NER-Extension-\n",
    "   "
   ]
  },
  {
   "cell_type": "code",
   "execution_count": 10,
   "id": "6f610b04",
   "metadata": {},
   "outputs": [
    {
     "name": "stdout",
     "output_type": "stream",
     "text": [
      "origin\thttps://github.com/DemirShah/NER-Extension- (fetch)\r\n",
      "origin\thttps://github.com/DemirShah/NER-Extension- (push)\r\n"
     ]
    }
   ],
   "source": [
    "! git remote -v\n",
    "   "
   ]
  },
  {
   "cell_type": "code",
   "execution_count": null,
   "id": "a3233665",
   "metadata": {},
   "outputs": [
    {
     "name": "stdout",
     "output_type": "stream",
     "text": [
      "Username for 'https://github.com': "
     ]
    }
   ],
   "source": [
    "! git push -u origin main\n",
    "   "
   ]
  },
  {
   "cell_type": "code",
   "execution_count": 12,
   "id": "df29b2ec",
   "metadata": {},
   "outputs": [],
   "source": [
    "! git config --global user.name \"DemirShah\"\n",
    "! git config --global user.email \"d.goog@yandex.ru\""
   ]
  },
  {
   "cell_type": "code",
   "execution_count": null,
   "id": "e1918603",
   "metadata": {},
   "outputs": [],
   "source": []
  }
 ],
 "metadata": {
  "kernelspec": {
   "display_name": "Python 3 (ipykernel)",
   "language": "python",
   "name": "python3"
  },
  "language_info": {
   "codemirror_mode": {
    "name": "ipython",
    "version": 3
   },
   "file_extension": ".py",
   "mimetype": "text/x-python",
   "name": "python",
   "nbconvert_exporter": "python",
   "pygments_lexer": "ipython3",
   "version": "3.9.12"
  }
 },
 "nbformat": 4,
 "nbformat_minor": 5
}
